{
 "cells": [
  {
   "cell_type": "markdown",
   "metadata": {},
   "source": [
    "# Fully Convolutional Network - Semantic Segmentation\n",
    "\n",
    "![image.png](imgs/2.png)"
   ]
  },
  {
   "cell_type": "markdown",
   "metadata": {},
   "source": [
    "![image.png](imgs/3.png)"
   ]
  },
  {
   "cell_type": "code",
   "execution_count": null,
   "metadata": {},
   "outputs": [],
   "source": [
    "import os\n",
    "import os.path as osp\n",
    "import pytz\n",
    "import torch\n",
    "\n",
    "import warnings\n",
    "warnings.filterwarnings('ignore')\n",
    "\n",
    "configurations = {\n",
    "    # same configuration as original work\n",
    "    # https://github.com/shelhamer/fcn.berkeleyvision.org\n",
    "    1: dict(\n",
    "        max_iteration=100000,\n",
    "        lr=1.0e-10,\n",
    "        momentum=0.99,\n",
    "        weight_decay=0.0005,\n",
    "        interval_validate=4000,\n",
    "    )\n",
    "}"
   ]
  },
  {
   "cell_type": "code",
   "execution_count": null,
   "metadata": {},
   "outputs": [],
   "source": [
    "from types import SimpleNamespace\n",
    "opts = SimpleNamespace()\n",
    "opts.cfg = configurations[1]\n",
    "opts.resume = ''\n",
    "print(opts.cfg)"
   ]
  },
  {
   "cell_type": "code",
   "execution_count": null,
   "metadata": {},
   "outputs": [],
   "source": [
    "from utils import get_log_dir\n",
    "opts.out = get_log_dir('resnet101', 1, opts.cfg)\n",
    "print(opts.out)"
   ]
  },
  {
   "cell_type": "code",
   "execution_count": null,
   "metadata": {},
   "outputs": [],
   "source": [
    "gpu = 1\n",
    "os.environ['CUDA_VISIBLE_DEVICES'] = str(gpu)\n",
    "cuda = torch.cuda.is_available()\n",
    "print('Cuda: {}'.format(cuda))\n",
    "opts.cuda = 'cuda' if cuda else 'cpu'\n",
    "opts.mode = 'train'\n",
    "opts.backbone = 'resnet'\n",
    "opts.fcn = '101'"
   ]
  },
  {
   "cell_type": "markdown",
   "metadata": {},
   "source": [
    "## PascalVOC Dataset - Downloaded on _`root`_ variable"
   ]
  },
  {
   "cell_type": "code",
   "execution_count": null,
   "metadata": {},
   "outputs": [],
   "source": [
    "root = './data/Pascal_VOC'\n",
    "print(root)"
   ]
  },
  {
   "cell_type": "code",
   "execution_count": null,
   "metadata": {},
   "outputs": [],
   "source": [
    "from data_loader import Pascal_Data\n",
    "kwargs = {'num_workers': 4} if cuda else {}\n",
    "train_loader = torch.utils.data.DataLoader(\n",
    "        Pascal_Data(root, image_set='train', backbone=opts.backbone),\n",
    "        batch_size=1, shuffle=True, **kwargs)\n",
    "val_loader = torch.utils.data.DataLoader(\n",
    "        Pascal_Data(root, image_set='val', backbone=opts.backbone),\n",
    "        batch_size=1, shuffle=False, **kwargs)\n",
    "data_loader = [train_loader, val_loader]"
   ]
  },
  {
   "cell_type": "code",
   "execution_count": null,
   "metadata": {},
   "outputs": [],
   "source": [
    "%matplotlib inline\n",
    "import matplotlib.pyplot as plt\n",
    "for data, target in train_loader: break\n",
    "print(data.shape)\n",
    "print(target.shape)\n",
    "data.min()\n",
    "data_show, label_show = train_loader.dataset.untransform(data[0].cpu().clone(), target[0].cpu().clone())\n",
    "\n",
    "plt.imshow(data_show)\n",
    "plt.show()\n",
    "\n",
    "def imshow_label(label_show):\n",
    "    import matplotlib\n",
    "    import numpy as np\n",
    "    cmap = plt.cm.jet\n",
    "    # extract all colors from the .jet map\n",
    "    cmaplist = [cmap(i) for i in range(cmap.N)]\n",
    "    cmaplist[0] = (0.0,0.0,0.0,1.0)\n",
    "    cmap = cmap.from_list('Custom cmap', cmaplist, cmap.N)\n",
    "    # define the bins and normalize\n",
    "    bounds = np.arange(0,len(train_loader.dataset.class_names))\n",
    "    norm = matplotlib.colors.BoundaryNorm(bounds, cmap.N)\n",
    "    plt.imshow(label_show, cmap=cmap, norm=norm)\n",
    "    cbar = plt.colorbar(ticks=bounds)\n",
    "    cbar.ax.set_yticklabels(train_loader.dataset.class_names)\n",
    "    plt.show()    \n",
    "    \n",
    "imshow_label(label_show)\n"
   ]
  },
  {
   "cell_type": "markdown",
   "metadata": {},
   "source": [
    "## FCN - Model"
   ]
  },
  {
   "cell_type": "code",
   "execution_count": null,
   "metadata": {},
   "outputs": [],
   "source": [
    "import numpy as np\n",
    "import torch.nn as nn\n",
    "from torchvision.models.segmentation import fcn_resnet101\n",
    "\n",
    "class FCN(nn.Module):\n",
    "    def __init__(self, n_class=21):\n",
    "\n",
    "        super(FCN, self).__init__()\n",
    "        self.fcn = fcn_resnet101(pretrained=False, num_classes=21)\n",
    "        # Uses bilinear interpolation for upsampling\n",
    "        # https://github.com/pytorch/vision/blob/master/torchvision/models/segmentation/_utils.py\n",
    "\n",
    "    def forward(self, x, debug=False):\n",
    "        return self.fcn(x)['out']          "
   ]
  },
  {
   "cell_type": "code",
   "execution_count": null,
   "metadata": {},
   "outputs": [],
   "source": [
    "model = FCN(n_class=21)\n",
    "model.to(opts.cuda)"
   ]
  },
  {
   "cell_type": "code",
   "execution_count": null,
   "metadata": {},
   "outputs": [],
   "source": [
    "iter_loader=iter(train_loader)\n",
    "data, target = next(iter_loader)\n",
    "data = data.to(opts.cuda)\n",
    "with torch.no_grad():\n",
    "    output = model(data)"
   ]
  },
  {
   "cell_type": "code",
   "execution_count": null,
   "metadata": {},
   "outputs": [],
   "source": [
    "print('input: ', data.shape)\n",
    "print('output: ', output.data.shape)"
   ]
  },
  {
   "cell_type": "code",
   "execution_count": null,
   "metadata": {},
   "outputs": [],
   "source": [
    "data, target = next(iter_loader)\n",
    "data = data.to(opts.cuda)\n",
    "with torch.no_grad():\n",
    "    print('input: ', data.shape)\n",
    "    output = model.fcn.backbone(data)['out']\n",
    "    print('backbone: ', output.data.shape)\n",
    "    output = model.fcn.classifier(output)\n",
    "    print('output: ', output.data.shape)"
   ]
  },
  {
   "cell_type": "code",
   "execution_count": null,
   "metadata": {},
   "outputs": [],
   "source": [
    "data, target = next(iter_loader)\n",
    "data = data.to(opts.cuda)\n",
    "with torch.no_grad():\n",
    "    print('input: ', data.shape)\n",
    "    output = model.fcn.backbone(data)['out']\n",
    "    print('backbone: ', output.data.shape)\n",
    "    output = model.fcn.classifier(output)\n",
    "    print('output: ', output.data.shape)"
   ]
  },
  {
   "cell_type": "code",
   "execution_count": null,
   "metadata": {},
   "outputs": [],
   "source": [
    "%matplotlib inline\n",
    "from trainer import Trainer"
   ]
  },
  {
   "cell_type": "code",
   "execution_count": null,
   "metadata": {},
   "outputs": [],
   "source": [
    "trainer = Trainer(data_loader, opts)"
   ]
  },
  {
   "cell_type": "code",
   "execution_count": null,
   "metadata": {},
   "outputs": [],
   "source": [
    "print(opts.cfg.get('interval_validate', len(train_loader))) #Validate every 4000 iterations\n",
    "print(opts.out)"
   ]
  },
  {
   "cell_type": "code",
   "execution_count": null,
   "metadata": {},
   "outputs": [],
   "source": [
    "start_epoch = 0\n",
    "start_iteration = 0\n",
    "if opts.resume:\n",
    "    start_epoch = checkpoint['epoch']\n",
    "    start_iteration = checkpoint['iteration']"
   ]
  },
  {
   "cell_type": "code",
   "execution_count": null,
   "metadata": {},
   "outputs": [],
   "source": [
    "trainer.epoch = start_epoch\n",
    "trainer.iteration = start_iteration\n",
    "trainer.Train()"
   ]
  }
 ],
 "metadata": {
  "kernelspec": {
   "display_name": "Python 3",
   "language": "python",
   "name": "python3"
  },
  "language_info": {
   "codemirror_mode": {
    "name": "ipython",
    "version": 3
   },
   "file_extension": ".py",
   "mimetype": "text/x-python",
   "name": "python",
   "nbconvert_exporter": "python",
   "pygments_lexer": "ipython3",
   "version": "3.7.1"
  }
 },
 "nbformat": 4,
 "nbformat_minor": 2
}
